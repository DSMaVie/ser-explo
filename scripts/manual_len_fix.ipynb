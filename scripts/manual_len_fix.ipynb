{
 "cells": [
  {
   "cell_type": "code",
   "execution_count": 7,
   "metadata": {},
   "outputs": [
    {
     "data": {
      "text/plain": [
       "{}"
      ]
     },
     "execution_count": 7,
     "metadata": {},
     "output_type": "execute_result"
    }
   ],
   "source": [
    "import h5py as h5\n",
    "\n",
    "labels = {}\n",
    "with h5.File(\n",
    "    \"/work/smt4/thulke/vieweg/SER/Code/sisyphus/work/preprocessing/ie4_w2v_clf/IEM4ProcessorForWav2Vec2WithPhonemes.58Fc7NorsRmE/output/preprocessed_data/processed_data.h5\",\n",
    "    \"r\",\n",
    ") as file:\n",
    "    for k in file.keys():\n",
    "        for j in file[k].keys():\n",
    "            labels.update({j: file[k][j][\"label\"][:].shape[-1]})\n",
    "labels = dict(sorted(labels.items(), key=lambda item: item[1]))\n",
    "labels"
   ]
  },
  {
   "cell_type": "code",
   "execution_count": 5,
   "metadata": {},
   "outputs": [],
   "source": [
    "ex_list = [\n",
    "    \"Ses01F_script01_3_F012\",\n",
    "    \"Ses01F_script03_1_F020\",\n",
    "    \"Ses01F_script03_1_M036\",\n",
    "]"
   ]
  },
  {
   "cell_type": "code",
   "execution_count": 6,
   "metadata": {},
   "outputs": [],
   "source": [
    "with h5.File(\n",
    "    \"/work/smt4/thulke/vieweg/SER/Code/sisyphus/work/preprocessing/ie4_w2v_clf/IEM4ProcessorForWav2Vec2WithPhonemes.58Fc7NorsRmE/output/preprocessed_data/processed_data.h5\",\n",
    "    \"w\",\n",
    ") as file:\n",
    "    for k in file.keys():\n",
    "        for ex in ex_list:\n",
    "            if ex in file[k].keys():\n",
    "                del file[f\"{k}/{ex}\"]\n",
    "                print(f\"deleted {ex} from {k} set\")"
   ]
  }
 ],
 "metadata": {
  "kernelspec": {
   "display_name": ".venv",
   "language": "python",
   "name": "python3"
  },
  "language_info": {
   "codemirror_mode": {
    "name": "ipython",
    "version": 3
   },
   "file_extension": ".py",
   "mimetype": "text/x-python",
   "name": "python",
   "nbconvert_exporter": "python",
   "pygments_lexer": "ipython3",
   "version": "3.8.0"
  },
  "orig_nbformat": 4
 },
 "nbformat": 4,
 "nbformat_minor": 2
}
